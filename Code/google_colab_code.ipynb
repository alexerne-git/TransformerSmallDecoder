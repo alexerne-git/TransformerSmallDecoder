{
  "nbformat": 4,
  "nbformat_minor": 0,
  "metadata": {
    "colab": {
      "provenance": [],
      "collapsed_sections": [
        "DEYOQoTufuuX"
      ],
      "gpuType": "L4",
      "machine_shape": "hm"
    },
    "kernelspec": {
      "name": "python3",
      "display_name": "Python 3"
    },
    "language_info": {
      "name": "python"
    },
    "accelerator": "GPU"
  },
  "cells": [
    {
      "cell_type": "markdown",
      "source": [
        "## **Small Generative Pretrained Transformer:**\n",
        "\n",
        "### Table of content\n",
        "\n",
        "- **Import Libraries, check device, reproductibility**\n",
        "- **Step 1: Dataset Loading & creation, Store loss values**\n",
        "- **Step 2: Vocabulary size & Encoding / Decoding**\n",
        "- **Step 3: Dataset Class and Sliding Window**\n",
        "- **Step 4: Transformer Decoder Model**\n",
        "- **Step 5: Model Training**\n",
        "- **Step 6: Testing and Evaluation (Perplexity)**\n",
        "- **Complete code**"
      ],
      "metadata": {
        "id": "Jogf2BiwvwRn"
      }
    },
    {
      "cell_type": "markdown",
      "source": [
        "### **Import Libraries, check device, reproductibility**"
      ],
      "metadata": {
        "id": "DJNO3gh1v00K"
      }
    },
    {
      "cell_type": "code",
      "source": [
        "import os\n",
        "import torch\n",
        "import torch.nn as nn\n",
        "import torch.nn.functional as F\n",
        "from torch.utils.data import Dataset\n",
        "import time\n",
        "import math\n",
        "import random\n",
        "import matplotlib.pyplot as plt\n",
        "import numpy as np"
      ],
      "metadata": {
        "id": "x-jbn4xIv0HD"
      },
      "execution_count": 1,
      "outputs": []
    },
    {
      "cell_type": "code",
      "source": [
        "# check if cuda is available\n",
        "device = 'cuda' if torch.cuda.is_available() else 'cpu'\n",
        "print(device)\n",
        "\n",
        "# Add a random seed for reproductibility\n",
        "torch.manual_seed(42)\n",
        "random.seed(42)"
      ],
      "metadata": {
        "colab": {
          "base_uri": "https://localhost:8080/"
        },
        "id": "jnb9evX2xnD6",
        "outputId": "9185b686-a2df-4877-a900-721ec865f181"
      },
      "execution_count": 2,
      "outputs": [
        {
          "output_type": "stream",
          "name": "stdout",
          "text": [
            "cuda\n"
          ]
        }
      ]
    },
    {
      "cell_type": "markdown",
      "source": [
        "### **Step 1: Dataset Loading & creation, Store loss values**"
      ],
      "metadata": {
        "id": "3YGnYqmVDFYg"
      }
    },
    {
      "cell_type": "code",
      "source": [
        "results_dir = \"./Results\" # store loss (train & val results)\n",
        "os.makedirs(results_dir, exist_ok=True) # Create dir if not existant\n",
        "results_file_path = os.path.join(results_dir, \"losses.txt\")"
      ],
      "metadata": {
        "id": "_QQonk9dDYu9"
      },
      "execution_count": 3,
      "outputs": []
    },
    {
      "cell_type": "code",
      "source": [
        "file_path = \"./dataset.txt\"\n",
        "with open(file_path, \"r\", encoding=\"utf-8\") as f:\n",
        "    data = f.read()\n",
        "\n",
        "# Split Data into Train, Validation, and Test Sets (80%,10%,10%)\n",
        "lines = data.splitlines(keepends=True) # Split /n into an array\n",
        "train_ratio, val_ratio, test_ratio = 0.8, 0.1, 0.1\n",
        "train_index = int(len(lines) * train_ratio)\n",
        "val_index = train_index + int(len(lines) * val_ratio)\n",
        "train_text = \"\".join(lines[:train_index])\n",
        "val_text = \"\".join(lines[train_index:val_index])\n",
        "test_text = \"\".join(lines[val_index:])"
      ],
      "metadata": {
        "id": "tVFuCc51DEQ-"
      },
      "execution_count": 4,
      "outputs": []
    },
    {
      "cell_type": "code",
      "source": [
        "print(len(train_text))\n",
        "print(len(val_text))\n",
        "print(len(test_text))"
      ],
      "metadata": {
        "colab": {
          "base_uri": "https://localhost:8080/"
        },
        "id": "BZ7vmD4Jy1pq",
        "outputId": "b4de0c7c-b443-4498-92ab-d12031d5c5e1"
      },
      "execution_count": 5,
      "outputs": [
        {
          "output_type": "stream",
          "name": "stdout",
          "text": [
            "907168\n",
            "109074\n",
            "99152\n"
          ]
        }
      ]
    },
    {
      "cell_type": "code",
      "source": [
        "# Example\n",
        "print(train_text[0:100]) # first 100 chars of the shakespear dataset\n",
        "print(\"--------------\")\n",
        "print(test_text[-100:]) # last 100 chars of the shakespear dataset"
      ],
      "metadata": {
        "colab": {
          "base_uri": "https://localhost:8080/"
        },
        "id": "pf9wHt73E-jT",
        "outputId": "f12e9847-c0c4-4d9e-c0ac-50f1999df734"
      },
      "execution_count": 6,
      "outputs": [
        {
          "output_type": "stream",
          "name": "stdout",
          "text": [
            "First Citizen:\n",
            "Before we proceed any further, hear me speak.\n",
            "\n",
            "All:\n",
            "Speak, speak.\n",
            "\n",
            "First Citizen:\n",
            "You\n",
            "--------------\n",
            "TONIO:\n",
            "Noble Sebastian,\n",
            "Thou let'st thy fortune sleep--die, rather; wink'st\n",
            "Whiles thou art waking.\n",
            "\n"
          ]
        }
      ]
    },
    {
      "cell_type": "markdown",
      "source": [
        "### **Step 2: Vocabulary size & Encoding / Decoding**"
      ],
      "metadata": {
        "id": "X-Z6xM5wETvn"
      }
    },
    {
      "cell_type": "code",
      "source": [
        "text = \"\".join(lines) # Gets entire dataset\n",
        "chars = sorted(list(set(text))) # list of unique tokens (here character-level)\n",
        "# Output:\n",
        "vocab_size = len(chars)\n",
        "string_to_int = {ch: i for i, ch in enumerate(chars)}\n",
        "int_to_string = {i: ch for i, ch in enumerate(chars)}\n",
        "encode = lambda s: [string_to_int[c] for c in s]\n",
        "decode = lambda l: ''.join([int_to_string[i] for i in l])"
      ],
      "metadata": {
        "id": "38MePpzpEP18"
      },
      "execution_count": 7,
      "outputs": []
    },
    {
      "cell_type": "code",
      "source": [
        "# Example\n",
        "print(chars)\n",
        "print(vocab_size)\n",
        "print(encode(\"AN !\"))\n",
        "print(decode(encode(\"AN !\")))"
      ],
      "metadata": {
        "colab": {
          "base_uri": "https://localhost:8080/"
        },
        "id": "Q6fhVgOoF9lJ",
        "outputId": "0bd09aff-5dd4-4722-cbe0-e42eeeaae015"
      },
      "execution_count": 8,
      "outputs": [
        {
          "output_type": "stream",
          "name": "stdout",
          "text": [
            "['\\n', ' ', '!', '$', '&', \"'\", ',', '-', '.', '3', ':', ';', '?', 'A', 'B', 'C', 'D', 'E', 'F', 'G', 'H', 'I', 'J', 'K', 'L', 'M', 'N', 'O', 'P', 'Q', 'R', 'S', 'T', 'U', 'V', 'W', 'X', 'Y', 'Z', 'a', 'b', 'c', 'd', 'e', 'f', 'g', 'h', 'i', 'j', 'k', 'l', 'm', 'n', 'o', 'p', 'q', 'r', 's', 't', 'u', 'v', 'w', 'x', 'y', 'z']\n",
            "65\n",
            "[13, 26, 1, 2]\n",
            "AN !\n"
          ]
        }
      ]
    },
    {
      "cell_type": "markdown",
      "source": [
        "### **Step 3: Dataset Class and Sliding Window**"
      ],
      "metadata": {
        "id": "bjauTPUDGeYZ"
      }
    },
    {
      "cell_type": "code",
      "source": [
        "class CharDataset(Dataset):\n",
        "    def __init__(self, text):\n",
        "        # Return tensor of input ids [13,15...]\n",
        "        self.data = torch.tensor(encode(text), dtype=torch.long)\n",
        "\n",
        "    def __len__(self):\n",
        "        # Get length - block_size to not have an Out-of-Bounds Exception\n",
        "        # Last chunk: position len(self.data) - block_size\n",
        "        return len(self.data) - block_size"
      ],
      "metadata": {
        "id": "uM2A4KU7GjN7"
      },
      "execution_count": 9,
      "outputs": []
    },
    {
      "cell_type": "code",
      "source": [
        "# Example\n",
        "test_dataset = CharDataset(test_text)\n",
        "block_size = 2\n",
        "total_chunks = len(test_dataset)\n",
        "print(f\"Total number of chunks: {total_chunks}\")"
      ],
      "metadata": {
        "colab": {
          "base_uri": "https://localhost:8080/"
        },
        "id": "HB-NFvK9I1oB",
        "outputId": "9ab92994-9431-4dc9-d61c-e7150c559f87"
      },
      "execution_count": 10,
      "outputs": [
        {
          "output_type": "stream",
          "name": "stdout",
          "text": [
            "Total number of chunks: 99150\n"
          ]
        }
      ]
    },
    {
      "cell_type": "code",
      "source": [
        "# Generate one batch of batch size (e.g B = 2 = 2 sequences)\n",
        "def get_sliding_window_batch(dataset, step_size):\n",
        "    data = dataset.data # Get dataset\n",
        "    windows, targets = [], []\n",
        "    # Iterate over 0, length(dataset)-1 to stay within bound\n",
        "    # Use step_size to control how much the starting point shifts between consecutive windows\n",
        "    for i in range(0, len(data)-block_size, step_size):\n",
        "        windows.append(data[i:i + block_size])\n",
        "        targets.append(data[i + 1:i + block_size + 1]) # offset by one\n",
        "    # Combine list of all sequences into tensors: 2D (total_windows, block_size)\n",
        "    windows = torch.stack(windows)\n",
        "    targets = torch.stack(targets)\n",
        "    # Random permutation of indices\n",
        "    # [:batch_size] random sequences from 2D tensor of all windows for mini-batch\n",
        "    indices = torch.randperm(len(windows))[:batch_size]\n",
        "    # Move the selected batch (windows and targets) to the specified device (CPU or GPU (parallel)) for computation\n",
        "    # e.g windows[3,1]\n",
        "    return windows[indices].to(device), targets[indices].to(device) # 2D tensors (B,T)"
      ],
      "metadata": {
        "id": "Ak03XQhcLADp"
      },
      "execution_count": 11,
      "outputs": []
    },
    {
      "cell_type": "code",
      "source": [
        "# Example\n",
        "block_size = 20\n",
        "batch_size = 2\n",
        "test_dataset = CharDataset(test_text)\n",
        "\n",
        "windows, targets = get_sliding_window_batch(test_dataset, step_size=10)\n",
        "print(\"Windows Shape:\", windows.shape)\n",
        "print(\"Targets Shape:\", targets.shape)\n",
        "\n",
        "for i in range(batch_size):\n",
        "    print(f\"\\nBatch {i+1}:\")\n",
        "    print(f\"Sequence (Encoded): {windows[i].tolist()}\")\n",
        "    print(f\"Sequence (Decoded): {decode(windows[i].tolist())}\")\n",
        "    print(f\"Target (Encoded): {targets[i].tolist()}\")\n",
        "    print(f\"Target (Decoded): {decode(targets[i].tolist())}\")\n",
        "\n",
        "# Result: we can see here that the two batches contains two different sequences\n",
        "# Because batch sequences are randomly sampled from the entire dataset\n",
        "# Dataset is large and batch size small so two sequences are completely different\n",
        "# Ensures training diversity"
      ],
      "metadata": {
        "colab": {
          "base_uri": "https://localhost:8080/"
        },
        "id": "nLuUm8gKLDek",
        "outputId": "6972c484-f841-4386-e5ed-1bd33258e619"
      },
      "execution_count": 12,
      "outputs": [
        {
          "output_type": "stream",
          "name": "stdout",
          "text": [
            "Windows Shape: torch.Size([2, 20])\n",
            "Targets Shape: torch.Size([2, 20])\n",
            "\n",
            "Batch 1:\n",
            "Sequence (Encoded): [56, 57, 43, 6, 1, 51, 63, 1, 53, 62, 6, 1, 51, 63, 1, 39, 57, 57, 6, 1]\n",
            "Sequence (Decoded): rse, my ox, my ass, \n",
            "Target (Encoded): [57, 43, 6, 1, 51, 63, 1, 53, 62, 6, 1, 51, 63, 1, 39, 57, 57, 6, 1, 51]\n",
            "Target (Decoded): se, my ox, my ass, m\n",
            "\n",
            "Batch 2:\n",
            "Sequence (Encoded): [56, 43, 1, 39, 52, 42, 1, 58, 46, 43, 56, 43, 1, 54, 47, 43, 41, 43, 42, 1]\n",
            "Sequence (Decoded): re and there pieced \n",
            "Target (Encoded): [43, 1, 39, 52, 42, 1, 58, 46, 43, 56, 43, 1, 54, 47, 43, 41, 43, 42, 1, 61]\n",
            "Target (Decoded): e and there pieced w\n"
          ]
        }
      ]
    },
    {
      "cell_type": "code",
      "source": [
        "# Example\n",
        "# Step size: It only controls how much the starting point of each window shifts in the dataset\n",
        "# larger step size helps cover the dataset more efficiently for large datasets\n",
        "# `block_size // 2` balances dataset coverage and efficiency by reducing redundancy while still capturing overlapping context between sequences.\n",
        "\n",
        "test = \"abcdefghij\"  # Simple sentence\n",
        "block_size = 4  # Length of each chunk\n",
        "step_size_1 = 1  # Step size = 1\n",
        "step_size_2 = 2  # Step size = 2\n",
        "\n",
        "# Function to demonstrate step size\n",
        "def illustrate_step_size(text, block_size, step_size):\n",
        "    chars = list(text)\n",
        "    sequences = []\n",
        "    for i in range(0, len(chars) - block_size + 1, step_size):\n",
        "        sequences.append(chars[i:i + block_size])\n",
        "    return sequences\n",
        "\n",
        "# Example with step size = 1\n",
        "sequences_step_1 = illustrate_step_size(test, block_size, step_size_1)\n",
        "print(\"Step Size = 1:\")\n",
        "for seq in sequences_step_1:\n",
        "    print(\"\".join(seq))\n",
        "\n",
        "# Example with step size = 2\n",
        "sequences_step_2 = illustrate_step_size(test, block_size, step_size_2)\n",
        "print(\"\\nStep Size = 2:\")\n",
        "for seq in sequences_step_2:\n",
        "    print(\"\".join(seq))"
      ],
      "metadata": {
        "colab": {
          "base_uri": "https://localhost:8080/"
        },
        "id": "wzXmXKUWaLuj",
        "outputId": "87538faf-ffe3-4d85-fd39-97f03660922f"
      },
      "execution_count": 13,
      "outputs": [
        {
          "output_type": "stream",
          "name": "stdout",
          "text": [
            "Step Size = 1:\n",
            "abcd\n",
            "bcde\n",
            "cdef\n",
            "defg\n",
            "efgh\n",
            "fghi\n",
            "ghij\n",
            "\n",
            "Step Size = 2:\n",
            "abcd\n",
            "cdef\n",
            "efgh\n",
            "ghij\n"
          ]
        }
      ]
    },
    {
      "cell_type": "markdown",
      "source": [
        "### **Step 4: Transformer Decoder Model**"
      ],
      "metadata": {
        "id": "twh4eoDHcG1G"
      }
    },
    {
      "cell_type": "code",
      "source": [
        "class Head(nn.Module):\n",
        "    def __init__(self, head_size):\n",
        "        super().__init__()\n",
        "        # nn.Linear: (in_features=, out_features=)\n",
        "        # Performs the operation Y = XW^T + b, where W is stored as (out_features, in_features) and is transposed internally for computation.\n",
        "        self.query = nn.Linear(n_embd, head_size, bias=False)  # Query projection (n_embed,hs)\n",
        "        self.key = nn.Linear(n_embd, head_size, bias=False)    # Key projection   (in=n_embed,out=hs)\n",
        "        self.value = nn.Linear(n_embd, head_size, bias=False)  # Value projection (n_embed,hs)\n",
        "        # Lower triangular Mask (T,T) for Causal Attention\n",
        "        self.register_buffer('tril', torch.tril(torch.ones(block_size, block_size)))\n",
        "        self.dropout = nn.Dropout(dropout)  # Regularization\n",
        "\n",
        "    def forward(self, x):\n",
        "        B, T, C = x.shape\n",
        "        q = self.query(x) # Q: (B,T,C) -> (B,T,hs)\n",
        "        k = self.key(x)   # K: (B,T,C) -> (B,T,hs)\n",
        "        v = self.value(x) # V: (B,T,C) -> (B,T,hs)\n",
        "        # Attention scores (dot-product)\n",
        "        #   Transpose K on the last two dim.: (T,hs)\n",
        "        #   Divide by sqrt(head_size) = k.shape[-1] # Last dimension\n",
        "        wei = q @ k.transpose(-2, -1) * k.shape[-1] ** -0.5  # (B,T,hs) @ (B,hs,T) -> (B,T,T)\n",
        "        # Apply causal mask to prevent attenting future tokens\n",
        "        wei = wei.masked_fill(self.tril[:T, :T] == 0, float('-inf'))  # Apply lower mask and replace 0 with -inf (B,T,T)\n",
        "        wei = F.softmax(wei, dim=-1)  # Apply softmax on last dim (row-wise) (B,T,T)\n",
        "        wei = self.dropout(wei) # Apply dropout (B,T,T)\n",
        "        out = wei @ v  # Weighted sum  (B,T,T)@(B,T,hs) -> (B,T,hs)\n",
        "        return out # (B,T,hs)\n",
        "\n",
        "class MultiHeadAttention(nn.Module):\n",
        "    def __init__(self, num_heads, head_size):\n",
        "        super().__init__()\n",
        "        # ModuleList: Parallel processing of multiple heads\n",
        "        self.heads = nn.ModuleList([Head(head_size) for _ in range(num_heads)]) # (B,T,C)->(B,T,hs)\n",
        "\n",
        "        # Linear Projection to combine outputs of all heads\n",
        "        self.proj = nn.Linear(head_size * num_heads, n_embd) # (B,T,hs*num_head) -> (B,T,n_embd)\n",
        "        self.dropout = nn.Dropout(dropout)  # Regularization\n",
        "\n",
        "    def forward(self, x):\n",
        "        # Concatenate outputs of all heads along last dimension\n",
        "        out = torch.cat([h(x) for h in self.heads], dim=-1)  # (B,T,hs*num_heads)\n",
        "\n",
        "        # Project concatenated output back to the embed dimension\n",
        "        out = self.dropout(self.proj(out)) # (B,T,n_embd)\n",
        "\n",
        "        return out # (B,T,n_embd)\n",
        "\n",
        "class FeedForward(nn.Module):\n",
        "    def __init__(self, n_embd):\n",
        "        super().__init__()\n",
        "        # Two linear layers with hidden size 4*n_embd\n",
        "        self.net = nn.Sequential(\n",
        "            nn.Linear(n_embd, 4 * n_embd),  # Expand embedding size (4*n_embd)\n",
        "            nn.ReLU(),                      # Non-linearity ReLU\n",
        "            nn.Linear(4 * n_embd, n_embd),  # Project back to embedding size (n_embd)\n",
        "            nn.Dropout(dropout),            # Regularization\n",
        "        )\n",
        "\n",
        "    def forward(self, x):\n",
        "        return self.net(x) # (B,T,n_emdb)\n",
        "\n",
        "class Block(nn.Module):\n",
        "    def __init__(self, n_embd, n_head):\n",
        "        super().__init__()\n",
        "        # Calculate head size (split embedding accross heads)\n",
        "        head_size = n_embd // n_head\n",
        "\n",
        "        # Multi-Head Attention\n",
        "        self.sa = MultiHeadAttention(n_head, head_size)  # (B,T,n_embd) -> (B,T,n_embd)\n",
        "        self.ln1 = nn.LayerNorm(n_embd)  # Layer normalization\n",
        "        self.ffwd = FeedForward(n_embd)  # Feed-forward network\n",
        "        self.ln2 = nn.LayerNorm(n_embd)  # Layer normalization\n",
        "\n",
        "    # Here Pre-Norm - better for Decoder (stabilizes training)\n",
        "    def forward(self, x):\n",
        "        x = x + self.sa(self.ln1(x))  # Normalize And Add\n",
        "        x = x + self.ffwd(self.ln2(x))# Normalize and Add\n",
        "        return x\n",
        "\n",
        "class GPTLanguageModel(nn.Module):\n",
        "    def __init__(self, vocab_size): # vocab_size as input\n",
        "        super().__init__()\n",
        "        self.token_embedding_table = nn.Embedding(vocab_size, n_embd)     # Token Emb Table (vocab_size,n_embed)\n",
        "        self.position_embedding_table = nn.Embedding(block_size, n_embd)  # Pos. Emb Table  (block_size, n_embed)\n",
        "\n",
        "        # Sequential Blocks (stacks Transformer Blocks of shape (n_embed,n_head))\n",
        "        self.blocks = nn.Sequential(*[Block(n_embd, n_head=n_head) for _ in range(n_layer)])\n",
        "        self.ln_f = nn.LayerNorm(n_embd)  # Layer Nrom (n_embed)\n",
        "        self.lm_head = nn.Linear(n_embd, vocab_size)  # LM Head (n_embed, vocab_size)\n",
        "        self.apply(self._init_weights)  # Initialize weights\n",
        "\n",
        "    # Initialize weights of Linear Layer and Embedding Table (mean=0, std=0.02)\n",
        "    def _init_weights(self, module):\n",
        "        if isinstance(module, nn.Linear):\n",
        "            torch.nn.init.normal_(module.weight, mean=0.0, std=0.02)\n",
        "            if module.bias is not None:\n",
        "                torch.nn.init.zeros_(module.bias)\n",
        "        elif isinstance(module, nn.Embedding):\n",
        "            torch.nn.init.normal_(module.weight, mean=0.0, std=0.02)\n",
        "\n",
        "    def forward(self, index, targets=None):\n",
        "        B, T = index.shape  # index: (B,T)\n",
        "        tok_emb = self.token_embedding_table(index)  # Token emb. (B, T, C)\n",
        "        # Creates a sequence T [0,T-1]\n",
        "        pos_emb = self.position_embedding_table(torch.arange(T, device=index.device))  # Pos. Emb. (T,C)\n",
        "        # x output: (B,T,C)\n",
        "        x = tok_emb + pos_emb  # Add Tok. Emb and Pos. Emb through broadcasting (B,T,C)+(T,C) = (B,T,C)\n",
        "        x = self.blocks(x)  # Through transformer blocks output (B,T,C)\n",
        "        x = self.ln_f(x)  # Layer norm on last dim C, output (B,T,C)\n",
        "        # Maps (B,T,C) to (B,T,vocab_size) => Linear transformation\n",
        "        logits = self.lm_head(x)  # Logits (B, T, vocab_size)\n",
        "        if targets is None:\n",
        "            loss = None\n",
        "        else:\n",
        "            logits = logits.view(B * T, -1) # Converts (B,T,vocab_size) to (B*T, vocab_size) without affecting last dim\n",
        "            targets = targets.view(B * T)   # Flatten targets to 1D Tensor\n",
        "            loss = F.cross_entropy(logits, targets)  # Compute loss (softmax done internally)\n",
        "        return logits, loss\n",
        "\n",
        "    def generate(self, index, max_new_tokens): # Here B=1\n",
        "        for _ in range(max_new_tokens): # Loop until max_new_tokens\n",
        "            index_cond = index[:, -block_size:]  # Take last block_size tokens (B,T)\n",
        "            logits, _ = self.forward(index_cond)  # Logits (B,T,vocab_size)\n",
        "            logits = logits[:, -1, :]  # Get logits of last token in index_cond (B,vocab_size)\n",
        "            probs = F.softmax(logits, dim=-1)  # Softmax for prob => (B,vocab_size) on last dim vocab\n",
        "            index_next = torch.multinomial(probs, num_samples=1)  # Sample next token (B,1)\n",
        "            index = torch.cat((index, index_next), dim=1)  # Append to sequence: (B,seq_length + 1)\n",
        "        return index"
      ],
      "metadata": {
        "id": "rNsxASY_mMgj"
      },
      "execution_count": 14,
      "outputs": []
    },
    {
      "cell_type": "markdown",
      "source": [
        "### **Step 5: Model Training**"
      ],
      "metadata": {
        "id": "rWCxcm1Ackj2"
      }
    },
    {
      "cell_type": "code",
      "source": [
        "# Initialize training, validation and test\n",
        "train_dataset = CharDataset(train_text)\n",
        "val_dataset = CharDataset(val_text)\n",
        "test_dataset = CharDataset(test_text)"
      ],
      "metadata": {
        "id": "PATgwVkXd93s"
      },
      "execution_count": 15,
      "outputs": []
    },
    {
      "cell_type": "code",
      "source": [
        "# Define the parameters (added here just as test - faster execution)\n",
        "batch_size = 128\n",
        "block_size = 128\n",
        "max_iters = 600 #1400\n",
        "learning_rate = 3e-4\n",
        "eval_iters = 50 #100\n",
        "n_embd = 512\n",
        "n_head = 8\n",
        "n_layer = 6\n",
        "dropout = 0.2"
      ],
      "metadata": {
        "id": "-nos3WROd-t2"
      },
      "execution_count": 16,
      "outputs": []
    },
    {
      "cell_type": "code",
      "source": [
        "device = torch.device('cuda' if torch.cuda.is_available() else 'cpu')\n",
        "model = GPTLanguageModel(vocab_size).to(device) # Define Model\n",
        "optimizer = torch.optim.AdamW(model.parameters(), lr=learning_rate) # Define Optimizer and Learning Rate\n",
        "scheduler = torch.optim.lr_scheduler.CosineAnnealingLR(optimizer, T_max=max_iters) # Define Scheduler"
      ],
      "metadata": {
        "id": "deLU3hVfeUy1"
      },
      "execution_count": 17,
      "outputs": []
    },
    {
      "cell_type": "code",
      "source": [
        "# Track best validation loss for model saving\n",
        "best_val_loss = float('inf')\n",
        "train_losses, val_losses = [], []\n",
        "\n",
        "# Start timing\n",
        "start_time = time.time()\n",
        "\n",
        "# Compute evaluation on both training and validation sets\n",
        "for iter in range(max_iters): # Loop through all iterations\n",
        "    if iter % eval_iters == 0: # Switch to eval mode\n",
        "        model.eval() # Disables dropout\n",
        "        with torch.no_grad(): # Stops gradient computation\n",
        "            train_loss, val_loss = 0.0, 0.0\n",
        "            # Loop through training and validation datasets (compute avg for train and val)\n",
        "            for split, dataset in zip(['train', 'val'], [train_dataset, val_dataset]):\n",
        "                total_loss = 0.0\n",
        "                # For train and val, run evaluation for eval iters\n",
        "                for _ in range(eval_iters):\n",
        "                    xb, yb = get_sliding_window_batch(dataset, step_size=block_size // 2) # get batches\n",
        "                    logits, loss = model(xb, yb) # compute logits and loss\n",
        "                    total_loss += loss.item() # Accumulate loss values\n",
        "                avg_loss = total_loss / eval_iters # Compute avg loss\n",
        "                if split == 'train':\n",
        "                    train_losses.append(avg_loss)\n",
        "                else:\n",
        "                    # Track best validation loss\n",
        "                    val_losses.append(avg_loss)\n",
        "                    if avg_loss < best_val_loss:\n",
        "                        best_val_loss = avg_loss\n",
        "                        torch.save(model.state_dict(), \"best_model.pth\")\n",
        "\n",
        "        with open(results_file_path, \"w\") as f:\n",
        "            f.write(f\"Train Losses: {train_losses}\\n\")\n",
        "            f.write(f\"Validation Losses: {val_losses}\\n\")\n",
        "\n",
        "        print(f\"Iteration {iter}: Train Loss {train_losses[-1]:.3f}, Val Loss {val_losses[-1]:.3f}\")\n",
        "\n",
        "    model.train() # Enable dropout and gradient tracking\n",
        "    xb, yb = get_sliding_window_batch(train_dataset, step_size=block_size // 2)\n",
        "    logits, loss = model(xb, yb) # Compute logits\n",
        "    optimizer.zero_grad(set_to_none=True) # Clear previous gradients to avoid accumulation\n",
        "    loss.backward() # Compute gradients of the loss using backpropagation\n",
        "    #torch.nn.utils.clip_grad_norm_(model.parameters(), max_norm=1.0)  # Gradient clipping (prevent exploding gradients)\n",
        "    optimizer.step() # Update the model parameters using computed gradients\n",
        "    #scheduler.step() # Ajust learning rate according to scheduler\n",
        "\n",
        "\n",
        "# End timing\n",
        "end_time = time.time()\n",
        "training_time = end_time - start_time\n",
        "training_time_minutes = training_time / 60\n",
        "print(f\"Total training time: {training_time_minutes:.2f} minutes\")\n",
        "\n",
        "\n",
        "# Save Final Model\n",
        "torch.save(model.state_dict(), 'final_model.pth')"
      ],
      "metadata": {
        "colab": {
          "base_uri": "https://localhost:8080/"
        },
        "id": "EffWMjXhcopd",
        "outputId": "805d2095-bf12-457c-89f8-0faf9552df6e"
      },
      "execution_count": 18,
      "outputs": [
        {
          "output_type": "stream",
          "name": "stdout",
          "text": [
            "Iteration 0: Train Loss 4.328, Val Loss 4.329\n",
            "Iteration 50: Train Loss 3.063, Val Loss 3.087\n",
            "Iteration 100: Train Loss 2.558, Val Loss 2.597\n",
            "Iteration 150: Train Loss 2.464, Val Loss 2.509\n",
            "Iteration 200: Train Loss 2.351, Val Loss 2.403\n",
            "Iteration 250: Train Loss 2.197, Val Loss 2.257\n",
            "Iteration 300: Train Loss 2.036, Val Loss 2.109\n",
            "Iteration 350: Train Loss 1.913, Val Loss 2.012\n",
            "Iteration 400: Train Loss 1.807, Val Loss 1.921\n",
            "Iteration 450: Train Loss 1.723, Val Loss 1.854\n",
            "Iteration 500: Train Loss 1.662, Val Loss 1.803\n",
            "Iteration 550: Train Loss 1.602, Val Loss 1.760\n",
            "Total training time: 7.31 minutes\n"
          ]
        }
      ]
    },
    {
      "cell_type": "markdown",
      "source": [
        "#### **Plot Loss functions**"
      ],
      "metadata": {
        "id": "9STFrpbAeeVn"
      }
    },
    {
      "cell_type": "code",
      "source": [
        "# Read the content from the results.txt file\n",
        "with open(\"./Results/losses.txt\", \"r\") as results_file:\n",
        "    content = results_file.readlines()\n",
        "\n",
        "# Extract train losses, validation losses, and other metrics from the file\n",
        "train_losses = []\n",
        "val_losses = []\n",
        "\n",
        "for line in content:\n",
        "    if line.startswith(\"Train Losses:\"):\n",
        "        train_losses = eval(line.split(\":\", 1)[1].strip())  # Convert string to list\n",
        "    elif line.startswith(\"Validation Losses:\"):\n",
        "        val_losses = eval(line.split(\":\", 1)[1].strip())  # Convert string to list\n",
        "\n",
        "\n",
        "# Plotting both training and validation losses in the same row\n",
        "fig, axes = plt.subplots(1, 2, figsize=(15, 5))\n",
        "\n",
        "# Training loss plot\n",
        "axes[0].plot(range(len(train_losses)), train_losses, label='Training Loss', color='blue', marker='o')\n",
        "axes[0].set_xlabel('Evaluation Iteration')\n",
        "axes[0].set_ylabel('Loss')\n",
        "axes[0].set_title('train_loss')\n",
        "axes[0].grid(True)\n",
        "axes[0].legend()\n",
        "\n",
        "# Validation loss plot\n",
        "axes[1].plot(range(len(val_losses)), val_losses, label='Validation Loss', color='blue', marker='o')\n",
        "axes[1].set_xlabel('Evaluation Iteration')\n",
        "axes[1].set_ylabel('Loss')\n",
        "axes[1].set_title('val_loss')\n",
        "axes[1].grid(True)\n",
        "axes[1].legend()\n",
        "\n",
        "plt.tight_layout()\n",
        "plt.show()"
      ],
      "metadata": {
        "colab": {
          "base_uri": "https://localhost:8080/",
          "height": 359
        },
        "id": "PMu_VqJXehpq",
        "outputId": "4baf66a0-4c6a-4481-a09c-b65f67a21b51"
      },
      "execution_count": 19,
      "outputs": [
        {
          "output_type": "display_data",
          "data": {
            "text/plain": [
              "<Figure size 1500x500 with 2 Axes>"
            ],
            "image/png": "[encoded data removed]"
          },
          "metadata": {}
        }
      ]
    },
    {
      "cell_type": "markdown",
      "source": [
        "### **Step 7: Testing and Evaluation (Perplexity)**"
      ],
      "metadata": {
        "id": "7Pyrl1e_eYkL"
      }
    },
    {
      "cell_type": "code",
      "source": [
        "window_losses = []\n",
        "\n",
        "# Process the test dataset in sliding windows of block_size\n",
        "for start in range(0, len(test_dataset.data) - block_size, block_size):\n",
        "    # Create input (xb) and target (yb) sequences for this batch\n",
        "    xb = test_dataset.data[start:start + block_size].unsqueeze(0).to(device)\n",
        "    yb = test_dataset.data[start + 1:start + block_size + 1].unsqueeze(0).to(device)\n",
        "\n",
        "    # Compute logits and loss without gradient computation\n",
        "    with torch.no_grad():\n",
        "        logits, loss = model(xb, yb)\n",
        "        window_losses.append(loss.item())  # Append the average loss for this window\n",
        "\n",
        "# Compute average loss and standard deviation\n",
        "avg_test_loss = np.mean(window_losses)\n",
        "std_test_loss = np.std(window_losses)\n",
        "\n",
        "# Convert average loss to perplexity\n",
        "perplexity = math.exp(avg_test_loss)\n",
        "perplexity_std = math.exp(std_test_loss)\n",
        "\n",
        "print(f\"Test Perplexity: {perplexity:.3f} ± {perplexity_std:.3f}\")"
      ],
      "metadata": {
        "colab": {
          "base_uri": "https://localhost:8080/"
        },
        "id": "gy4Tgdq1Z0n9",
        "outputId": "727915af-7ffe-428f-c75f-8fa649eba1ec"
      },
      "execution_count": 20,
      "outputs": [
        {
          "output_type": "stream",
          "name": "stdout",
          "text": [
            "Test Perplexity: 6.989 ± 1.230\n"
          ]
        }
      ]
    },
    {
      "cell_type": "code",
      "source": [
        "model.eval() # Eval mode: disable dropout\n",
        "with torch.no_grad(): # No gradients computed\n",
        "    seed = \"O God, O God!\"\n",
        "    # Encodes sequence\n",
        "    # unsqueeze(0) adds a batch dimension (1) to become (1,T)\n",
        "    context = torch.tensor(encode(seed), dtype=torch.long).unsqueeze(0).to(device)\n",
        "    generated_tokens = model.generate(context, max_new_tokens=700) # Generate prediction IDs\n",
        "    generated_text = decode(generated_tokens[0].tolist()) # Convert back to text\n",
        "    print(f\"Generated Text:\\n{generated_text}\")"
      ],
      "metadata": {
        "colab": {
          "base_uri": "https://localhost:8080/"
        },
        "id": "rKRfKx5Yeyf1",
        "outputId": "f0986ad0-5a58-4dda-bf78-9ce32a0c4b56"
      },
      "execution_count": 21,
      "outputs": [
        {
          "output_type": "stream",
          "name": "stdout",
          "text": [
            "Generated Text:\n",
            "O God, O God!\n",
            "\n",
            "LADY CAPULET:\n",
            "I am peoposesion their:\n",
            "What. At old sheep the would broye-what such off,\n",
            "And the fair have hose of our feirst hath lever made,\n",
            "That forwhoes seen to the chourse? the hospend, that tlet is side;\n",
            "For for a slong ousbidy's moces think I live made,\n",
            "To that is none ful apoker 's mand. Good the brother ginne,\n",
            "Ag, of make see dead that I own hearth is am\n",
            "And daughter vilty Perchant: such my niche give is till.\n",
            "\n",
            "LEONTES:\n",
            "Ull fair for beed.\n",
            "\n",
            "CORIOLANUS:\n",
            "No more is a prespect on the well of Amorm, life,\n",
            "For that of purpromony pity fear roscing the counself our and\n",
            "We faals you seem of moster in father.\n",
            "\n",
            "PRINCE EDWARD IO:\n",
            "Ay, are to her will to-true hereher much ond more made.\n",
            "\n",
            "FRIAR V\n"
          ]
        }
      ]
    },
    {
      "cell_type": "markdown",
      "source": [
        "### **Complete code**\n",
        "\n",
        "- Possible to run directly this code (just import dataset.txt)"
      ],
      "metadata": {
        "id": "lEsxi13kffSg"
      }
    },
    {
      "cell_type": "code",
      "source": [
        "# Import Libraries\n",
        "import os\n",
        "import torch\n",
        "import torch.nn as nn\n",
        "import torch.nn.functional as F\n",
        "from torch.utils.data import Dataset\n",
        "import time\n",
        "import math\n",
        "import random\n",
        "import matplotlib.pyplot as plt\n",
        "import numpy as np\n",
        "\n",
        "torch.manual_seed(42)\n",
        "random.seed(42)\n",
        "\n",
        "results_dir = \"./Results\"\n",
        "os.makedirs(results_dir, exist_ok=True)\n",
        "results_file_path = os.path.join(results_dir, \"losses.txt\")\n",
        "\n",
        "file_path = \"./dataset.txt\"\n",
        "with open(file_path, \"r\", encoding=\"utf-8\") as f:\n",
        "    data = f.read()\n",
        "\n",
        "lines = data.splitlines(keepends=True)\n",
        "train_ratio, val_ratio, test_ratio = 0.8, 0.1, 0.1\n",
        "train_index = int(len(lines) * train_ratio)\n",
        "val_index = train_index + int(len(lines) * val_ratio)\n",
        "train_text = \"\".join(lines[:train_index])\n",
        "val_text = \"\".join(lines[train_index:val_index])\n",
        "test_text = \"\".join(lines[val_index:])\n",
        "\n",
        "text = \"\".join(lines)\n",
        "chars = sorted(list(set(text)))\n",
        "vocab_size = len(chars)\n",
        "string_to_int = {ch: i for i, ch in enumerate(chars)}\n",
        "int_to_string = {i: ch for i, ch in enumerate(chars)}\n",
        "encode = lambda s: [string_to_int[c] for c in s]\n",
        "decode = lambda l: ''.join([int_to_string[i] for i in l])\n",
        "\n",
        "class CharDataset(Dataset):\n",
        "    def __init__(self, text):\n",
        "        self.data = torch.tensor(encode(text), dtype=torch.long)\n",
        "    def __len__(self):\n",
        "        return len(self.data) - block_size\n",
        "\n",
        "def get_sliding_window_batch(dataset, step_size):\n",
        "    data = dataset.data\n",
        "    windows, targets = [], []\n",
        "    for i in range(0, len(data) -block_size, step_size):\n",
        "        windows.append(data[i:i + block_size])\n",
        "        targets.append(data[i + 1:i + block_size + 1])\n",
        "    windows = torch.stack(windows)\n",
        "    targets = torch.stack(targets)\n",
        "    indices = torch.randperm(len(windows))[:batch_size]\n",
        "    return windows[indices].to(device), targets[indices].to(device)\n",
        "\n",
        "# Transformer code\n",
        "class Head(nn.Module):\n",
        "    def __init__(self, head_size):\n",
        "        super().__init__()\n",
        "        self.key = nn.Linear(n_embd, head_size, bias=False)\n",
        "        self.query = nn.Linear(n_embd, head_size, bias=False)\n",
        "        self.value = nn.Linear(n_embd, head_size, bias=False)\n",
        "        self.register_buffer('tril', torch.tril(torch.ones(block_size, block_size)))\n",
        "        self.dropout = nn.Dropout(dropout)\n",
        "\n",
        "    def forward(self, x):\n",
        "        B, T, C = x.shape\n",
        "        k = self.key(x)\n",
        "        q = self.query(x)\n",
        "        v = self.value(x)\n",
        "        wei = q @ k.transpose(-2, -1) * k.shape[-1] ** -0.5\n",
        "        wei = wei.masked_fill(self.tril[:T, :T] == 0, float('-inf'))\n",
        "        wei = F.softmax(wei, dim=-1)\n",
        "        wei = self.dropout(wei)\n",
        "        out = wei @ v\n",
        "        return out\n",
        "\n",
        "class MultiHeadAttention(nn.Module):\n",
        "    def __init__(self, num_heads, head_size):\n",
        "        super().__init__()\n",
        "        self.heads = nn.ModuleList([Head(head_size) for _ in range(num_heads)])\n",
        "        self.proj = nn.Linear(head_size * num_heads, n_embd)\n",
        "        self.dropout = nn.Dropout(dropout)\n",
        "\n",
        "    def forward(self, x):\n",
        "        out = torch.cat([h(x) for h in self.heads], dim=-1)\n",
        "        out = self.dropout(self.proj(out))\n",
        "        return out\n",
        "\n",
        "class FeedForward(nn.Module):\n",
        "    def __init__(self, n_embd):\n",
        "        super().__init__()\n",
        "        self.net = nn.Sequential(\n",
        "            nn.Linear(n_embd, 4 * n_embd),\n",
        "            nn.ReLU(),\n",
        "            nn.Linear(4 * n_embd, n_embd),\n",
        "            nn.Dropout(dropout),\n",
        "        )\n",
        "\n",
        "    def forward(self, x):\n",
        "        return self.net(x)\n",
        "\n",
        "class Block(nn.Module):\n",
        "    def __init__(self, n_embd, n_head):\n",
        "        super().__init__()\n",
        "        head_size = n_embd // n_head\n",
        "        self.sa = MultiHeadAttention(n_head, head_size)\n",
        "        self.ln1 = nn.LayerNorm(n_embd)\n",
        "        self.ffwd = FeedForward(n_embd)\n",
        "        self.ln2 = nn.LayerNorm(n_embd)\n",
        "\n",
        "    def forward(self, x):\n",
        "        x = x + self.sa(self.ln1(x))\n",
        "        x = x + self.ffwd(self.ln2(x))\n",
        "        return x\n",
        "\n",
        "class GPTLanguageModel(nn.Module):\n",
        "    def __init__(self, vocab_size):\n",
        "        super().__init__()\n",
        "        self.token_embedding_table = nn.Embedding(vocab_size, n_embd)\n",
        "        self.position_embedding_table = nn.Embedding(block_size, n_embd)\n",
        "        self.blocks = nn.Sequential(*[Block(n_embd, n_head=n_head) for _ in range(n_layer)])\n",
        "        self.ln_f = nn.LayerNorm(n_embd)\n",
        "        self.lm_head = nn.Linear(n_embd, vocab_size)\n",
        "        self.apply(self._init_weights)\n",
        "\n",
        "    def _init_weights(self, module):\n",
        "        if isinstance(module, nn.Linear):\n",
        "            torch.nn.init.normal_(module.weight, mean=0.0, std=0.02)\n",
        "            if module.bias is not None:\n",
        "                torch.nn.init.zeros_(module.bias)\n",
        "        elif isinstance(module, nn.Embedding):\n",
        "            torch.nn.init.normal_(module.weight, mean=0.0, std=0.02)\n",
        "\n",
        "    def forward(self, index, targets=None):\n",
        "        B, T = index.shape\n",
        "        tok_emb = self.token_embedding_table(index)\n",
        "        pos_emb = self.position_embedding_table(torch.arange(T, device=index.device))\n",
        "        x = tok_emb + pos_emb\n",
        "        x = self.blocks(x)\n",
        "        x = self.ln_f(x)\n",
        "        logits = self.lm_head(x)\n",
        "        if targets is None:\n",
        "            loss = None\n",
        "        else:\n",
        "            logits = logits.view(B * T, -1)\n",
        "            targets = targets.view(B * T)\n",
        "            loss = F.cross_entropy(logits, targets)\n",
        "        return logits, loss\n",
        "\n",
        "    def generate(self, index, max_new_tokens):\n",
        "        for _ in range(max_new_tokens):\n",
        "            index_cond = index[:, -block_size:]\n",
        "            logits, _ = self.forward(index_cond)\n",
        "            logits = logits[:, -1, :]\n",
        "            probs = F.softmax(logits, dim=-1)\n",
        "            index_next = torch.multinomial(probs, num_samples=1)\n",
        "            index = torch.cat((index, index_next), dim=1)\n",
        "        return index\n",
        "# Transformer code\n",
        "\n",
        "# Define the parameters\n",
        "batch_size = 128\n",
        "block_size = 128\n",
        "max_iters = 600\n",
        "learning_rate = 3e-4\n",
        "eval_iters = 50\n",
        "n_embd = 512\n",
        "n_head = 8\n",
        "n_layer = 6\n",
        "dropout = 0.2\n",
        "\n",
        "train_dataset = CharDataset(train_text)\n",
        "val_dataset = CharDataset(val_text)\n",
        "test_dataset = CharDataset(test_text)\n",
        "\n",
        "device = torch.device('cuda' if torch.cuda.is_available() else 'cpu')\n",
        "model = GPTLanguageModel(vocab_size).to(device)\n",
        "optimizer = torch.optim.AdamW(model.parameters(), lr=learning_rate)\n",
        "\n",
        "best_val_loss = float('inf')\n",
        "train_losses, val_losses = [], []\n",
        "\n",
        "start_time = time.time()\n",
        "\n",
        "for iter in range(max_iters):\n",
        "    if iter % eval_iters == 0:\n",
        "        model.eval()\n",
        "        with torch.no_grad():\n",
        "            train_loss, val_loss = 0.0, 0.0\n",
        "            for split, dataset in zip(['train', 'val'], [train_dataset, val_dataset]):\n",
        "                total_loss = 0.0\n",
        "                for _ in range(eval_iters):\n",
        "                    xb, yb = get_sliding_window_batch(dataset, step_size=block_size // 2)\n",
        "                    logits, loss = model(xb, yb)\n",
        "                    total_loss += loss.item()\n",
        "                avg_loss = total_loss / eval_iters\n",
        "                if split == 'train':\n",
        "                    train_losses.append(avg_loss)\n",
        "                else:\n",
        "                    val_losses.append(avg_loss)\n",
        "                    if avg_loss < best_val_loss:\n",
        "                        best_val_loss = avg_loss\n",
        "                        torch.save(model.state_dict(), \"best_model.pth\")\n",
        "        with open(results_file_path, \"w\") as f:\n",
        "            f.write(f\"Train Losses: {train_losses}\\n\")\n",
        "            f.write(f\"Validation Losses: {val_losses}\\n\")\n",
        "\n",
        "        print(f\"Iteration {iter}: Train Loss {train_losses[-1]:.3f}, Val Loss {val_losses[-1]:.3f}\")\n",
        "\n",
        "    model.train()\n",
        "    xb, yb = get_sliding_window_batch(train_dataset, step_size=block_size // 2)\n",
        "    logits, loss = model(xb, yb)\n",
        "    optimizer.zero_grad(set_to_none=True)\n",
        "    loss.backward()\n",
        "    optimizer.step()\n",
        "\n",
        "end_time = time.time()\n",
        "training_time = (end_time - start_time) / 60\n",
        "print(f\"Total training time: {training_time:.2f} minutes\")\n",
        "torch.save(model.state_dict(), 'final_model.pth')"
      ],
      "metadata": {
        "id": "MoWkZUL_fhhF",
        "colab": {
          "base_uri": "https://localhost:8080/"
        },
        "outputId": "ee4c559f-c3b3-4f43-974e-543c97bfb7b4"
      },
      "execution_count": 22,
      "outputs": [
        {
          "output_type": "stream",
          "name": "stdout",
          "text": [
            "Iteration 0: Train Loss 4.362, Val Loss 4.359\n",
            "Iteration 50: Train Loss 2.997, Val Loss 3.017\n",
            "Iteration 100: Train Loss 2.529, Val Loss 2.569\n",
            "Iteration 150: Train Loss 2.441, Val Loss 2.486\n",
            "Iteration 200: Train Loss 2.285, Val Loss 2.337\n",
            "Iteration 250: Train Loss 2.106, Val Loss 2.167\n",
            "Iteration 300: Train Loss 1.981, Val Loss 2.066\n",
            "Iteration 350: Train Loss 1.851, Val Loss 1.951\n",
            "Iteration 400: Train Loss 1.763, Val Loss 1.879\n",
            "Iteration 450: Train Loss 1.684, Val Loss 1.818\n",
            "Iteration 500: Train Loss 1.623, Val Loss 1.757\n",
            "Iteration 550: Train Loss 1.577, Val Loss 1.727\n",
            "Total training time: 7.33 minutes\n"
          ]
        }
      ]
    },
    {
      "cell_type": "code",
      "source": [
        "window_losses = []\n",
        "\n",
        "for start in range(0, len(test_dataset.data) - block_size, block_size):\n",
        "    xb = test_dataset.data[start:start + block_size].unsqueeze(0).to(device)\n",
        "    yb = test_dataset.data[start + 1:start + block_size + 1].unsqueeze(0).to(device)\n",
        "\n",
        "    with torch.no_grad():\n",
        "        logits, loss = model(xb, yb)\n",
        "        window_losses.append(loss.item())\n",
        "\n",
        "avg_test_loss = np.mean(window_losses)\n",
        "std_test_loss = np.std(window_losses)\n",
        "\n",
        "perplexity = math.exp(avg_test_loss)\n",
        "perplexity_std = math.exp(std_test_loss)\n",
        "\n",
        "print(f\"Test Perplexity: {perplexity:.3f} ± {perplexity_std:.3f}\")\n",
        "\n",
        "model.eval()\n",
        "with torch.no_grad():\n",
        "    seed = \"O God, O God!\"\n",
        "    context = torch.tensor(encode(seed), dtype=torch.long).unsqueeze(0).to(device)\n",
        "    generated_tokens = model.generate(context, max_new_tokens=700)\n",
        "    generated_text = decode(generated_tokens[0].tolist())\n",
        "    print(f\"Generated Text:\\n{generated_text}\")"
      ],
      "metadata": {
        "colab": {
          "base_uri": "https://localhost:8080/"
        },
        "id": "CkP_0hx8aAyI",
        "outputId": "194f38b4-b5f0-417c-fa85-f26d33e98dde"
      },
      "execution_count": 23,
      "outputs": [
        {
          "output_type": "stream",
          "name": "stdout",
          "text": [
            "Test Perplexity: 6.865 ± 1.235\n",
            "Generated Text:\n",
            "O God, O God!\n",
            "I vole? my lied, I doe to noign their may mine hold\n",
            "And pity's buse enemers, not with at tends\n",
            "A fair hboth my forth's feirs thumbless. God somanly frienders,\n",
            "And oppy sting wair proves.\n",
            "What hath let is side; what that be but exby you\n",
            "Why be thee cheek that in minkle melf;\n",
            "The you had best we by doth me, be I will not he,\n",
            "Unsife thee dread unglemon when Valice!\n",
            "\n",
            "AUMILLO:\n",
            "Is could he dispit: suck my night go stroke\n",
            "Agaves great with frant of begdive: seem, then more!\n",
            "His all Relance you Volscel\n",
            "To me.\n",
            "\n",
            "GLOUCESTER:\n",
            "Please purpronour pity your gracian,\n",
            "And my lord my bear perful:\n",
            "Oyeads he made the likefore ittes:\n",
            "You happy kneed bleast of hell.\n",
            "\n",
            "ROMEO:\n",
            "He hereher; let ond you, my bread,\n",
            "And \n"
          ]
        }
      ]
    },
    {
      "cell_type": "markdown",
      "source": [
        "#### **Plot Results**"
      ],
      "metadata": {
        "id": "zqyKwSd8fsNy"
      }
    },
    {
      "cell_type": "code",
      "source": [
        "with open(\"./Results/losses.txt\", \"r\") as results_file:\n",
        "    content = results_file.readlines()\n",
        "\n",
        "train_losses = []\n",
        "val_losses = []\n",
        "\n",
        "for line in content:\n",
        "    if line.startswith(\"Train Losses:\"):\n",
        "        train_losses = eval(line.split(\":\", 1)[1].strip())\n",
        "    elif line.startswith(\"Validation Losses:\"):\n",
        "        val_losses = eval(line.split(\":\", 1)[1].strip())\n",
        "\n",
        "\n",
        "fig, axes = plt.subplots(1, 2, figsize=(15, 5))\n",
        "\n",
        "axes[0].plot(range(len(train_losses)), train_losses, label='Training Loss', color='blue', marker='o')\n",
        "axes[0].set_xlabel('Evaluation Iteration')\n",
        "axes[0].set_ylabel('Loss')\n",
        "axes[0].set_title('train_loss')\n",
        "axes[0].grid(True)\n",
        "axes[0].legend()\n",
        "\n",
        "axes[1].plot(range(len(val_losses)), val_losses, label='Validation Loss', color='blue', marker='o')\n",
        "axes[1].set_xlabel('Evaluation Iteration')\n",
        "axes[1].set_ylabel('Loss')\n",
        "axes[1].set_title('val_loss')\n",
        "axes[1].grid(True)\n",
        "axes[1].legend()\n",
        "\n",
        "plt.tight_layout()\n",
        "plt.show()"
      ],
      "metadata": {
        "colab": {
          "base_uri": "https://localhost:8080/",
          "height": 359
        },
        "id": "n7iwB6TOfhyC",
        "outputId": "ef758209-c2e6-48b7-f1c4-32460e865974"
      },
      "execution_count": 24,
      "outputs": [
        {
          "output_type": "display_data",
          "data": {
            "text/plain": [
              "<Figure size 1500x500 with 2 Axes>"
            ],
            "image/png": "[encoded data removed]"
          },
          "metadata": {}
        }
      ]
    }
  ]
}